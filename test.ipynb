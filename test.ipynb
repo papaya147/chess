{
 "cells": [
  {
   "cell_type": "code",
   "execution_count": 1,
   "id": "9fea8b49",
   "metadata": {},
   "outputs": [],
   "source": [
    "import chess\n",
    "import numpy as np\n",
    "from network import ChessNet\n",
    "import torch\n",
    "import torch.nn as nn\n",
    "import torch.optim as optim\n",
    "import torch.nn.functional as F\n",
    "from concurrent.futures import ProcessPoolExecutor\n",
    "from replay_buffer import ReplayBuffer\n",
    "from state import move_to_index\n",
    "import mcts\n",
    "import util\n",
    "import os\n",
    "import time"
   ]
  },
  {
   "cell_type": "code",
   "execution_count": 2,
   "id": "de6c7112",
   "metadata": {},
   "outputs": [
    {
     "name": "stdout",
     "output_type": "stream",
     "text": [
      "Using MPS device\n"
     ]
    }
   ],
   "source": [
    "if torch.backends.mps.is_available():\n",
    "    device = torch.device('mps')\n",
    "    print('Using MPS device')\n",
    "else:\n",
    "    device = torch.device('cpu')\n",
    "    print('MPS not available, using CPU')"
   ]
  },
  {
   "cell_type": "code",
   "execution_count": 3,
   "id": "1dc18d21",
   "metadata": {},
   "outputs": [],
   "source": [
    "def train_step(replay_buffer: ReplayBuffer, batch_size, net, optimizer):\n",
    "    net.train()\n",
    "\n",
    "    if replay_buffer.size() < batch_size:\n",
    "        return 0.0, 0.0, 0.0\n",
    "\n",
    "    positions, target_policies, target_values = replay_buffer.sample(batch_size)\n",
    "\n",
    "    optimizer.zero_grad()\n",
    "\n",
    "    pred_policies, pred_values = net(positions)\n",
    "\n",
    "    log_probs = F.log_softmax(pred_policies, dim=1)\n",
    "    policy_loss = -torch.sum(target_policies * log_probs) / positions.size(0)\n",
    "\n",
    "    value_loss = F.mse_loss(pred_values, target_values.unsqueeze(1))\n",
    "\n",
    "    loss = policy_loss + value_loss\n",
    "\n",
    "    loss.backward()\n",
    "    optimizer.step()\n",
    "\n",
    "    return loss.item(), policy_loss.item(), value_loss.item()"
   ]
  },
  {
   "cell_type": "code",
   "execution_count": null,
   "id": "357796e1",
   "metadata": {},
   "outputs": [],
   "source": [
    "model_checkpoint_path = 'model.pth'\n",
    "optimizer_checkpoint_path = 'optimizer.pth'\n",
    "replay_buffer_checkpoint_path = 'replay-buffer.pkl'\n",
    "game_gif_path = 'game.gif'\n",
    "\n",
    "net = ChessNet(n_moves=len(move_to_index))\n",
    "try:\n",
    "    net.load_state_dict(torch.load(model_checkpoint_path), device=device)\n",
    "except: # checkpoint doesn't exist, continue with new model\n",
    "    pass\n",
    "net = net.to(device)\n",
    "\n",
    "optimizer = optim.Adam(net.parameters(), lr=1e-3)\n",
    "try:\n",
    "    optimizer.load_state_dict(torch.load(optimizer_checkpoint_path))\n",
    "except: # checkpoint doesn't exist, continue with new optimizer\n",
    "    pass\n",
    "\n",
    "n_epochs = 75\n",
    "n_selfplay_games = 8\n",
    "\n",
    "replay_buffer = ReplayBuffer(1000000)\n",
    "try:\n",
    "    replay_buffer.load(replay_buffer_checkpoint_path)\n",
    "except:\n",
    "    pass\n",
    "batch_size = 64\n",
    "\n",
    "n_sims = 400\n",
    "c_puct = 1.5\n",
    "temperature = 1.0\n",
    "alpha = 0.1\n",
    "epsilon = 0.15"
   ]
  },
  {
   "cell_type": "code",
   "execution_count": 5,
   "id": "e7cc8a92",
   "metadata": {},
   "outputs": [
    {
     "name": "stdout",
     "output_type": "stream",
     "text": [
      "Epoch 1: Loss: 9.4483, P_Loss: 8.4195, V_loss: 1.0287, Time: 269.62s\n"
     ]
    }
   ],
   "source": [
    "torch.save(net.state_dict(), model_checkpoint_path)\n",
    "torch.save(optimizer.state_dict(), optimizer_checkpoint_path)\n",
    "replay_buffer.save(replay_buffer_checkpoint_path)\n",
    "\n",
    "for epoch in range(n_epochs):\n",
    "    start = time.time()\n",
    "\n",
    "    with ProcessPoolExecutor(max_workers=8) as executor:\n",
    "        futures = [\n",
    "            executor.submit(\n",
    "                mcts.selfplay_wrapper, model_checkpoint_path, n_sims, c_puct, temperature, alpha, epsilon\n",
    "            ) for _ in range(n_selfplay_games)\n",
    "        ]\n",
    "\n",
    "        for future in futures:\n",
    "            board, positions, policies, values = future.result()\n",
    "            replay_buffer.add_game(positions, policies, values)\n",
    "        \n",
    "    end = time.time()\n",
    "\n",
    "    # util.save_game_gif(board, game_gif_path)\n",
    "\n",
    "    loss, ploss, vloss = train_step(replay_buffer, batch_size, net, optimizer)\n",
    "    print(f'Epoch {epoch + 1}: Loss: {loss:.4f}, P_Loss: {ploss:.4f}, V_loss: {vloss:.4f}, Time: {(end - start):.2f}s')\n",
    "\n",
    "    torch.save(net.state_dict(), model_checkpoint_path)\n",
    "    torch.save(optimizer.state_dict(), optimizer_checkpoint_path)\n",
    "    replay_buffer.save(replay_buffer_checkpoint_path)"
   ]
  },
  {
   "cell_type": "code",
   "execution_count": 6,
   "id": "dadb65d3",
   "metadata": {},
   "outputs": [
    {
     "name": "stderr",
     "output_type": "stream",
     "text": [
      "Can't handle color: url(#check_gradient)\n",
      "Can't handle color: url(#check_gradient)\n",
      "Can't handle color: url(#check_gradient)\n",
      "Can't handle color: url(#check_gradient)\n",
      "Can't handle color: url(#check_gradient)\n",
      "Can't handle color: url(#check_gradient)\n",
      "Can't handle color: url(#check_gradient)\n",
      "Can't handle color: url(#check_gradient)\n",
      "Can't handle color: url(#check_gradient)\n",
      "Can't handle color: url(#check_gradient)\n",
      "Can't handle color: url(#check_gradient)\n"
     ]
    },
    {
     "name": "stdout",
     "output_type": "stream",
     "text": [
      "GIF successfully saved to game.gif\n"
     ]
    }
   ],
   "source": [
    "util.save_game_gif(board, game_gif_path)"
   ]
  },
  {
   "cell_type": "code",
   "execution_count": 7,
   "id": "842d2734",
   "metadata": {},
   "outputs": [],
   "source": [
    "torch.save(net.state_dict(), 'model.pth')"
   ]
  }
 ],
 "metadata": {
  "kernelspec": {
   "display_name": "Python 3",
   "language": "python",
   "name": "python3"
  },
  "language_info": {
   "codemirror_mode": {
    "name": "ipython",
    "version": 3
   },
   "file_extension": ".py",
   "mimetype": "text/x-python",
   "name": "python",
   "nbconvert_exporter": "python",
   "pygments_lexer": "ipython3",
   "version": "3.11.13"
  }
 },
 "nbformat": 4,
 "nbformat_minor": 5
}
